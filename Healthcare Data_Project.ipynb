{
 "cells": [
  {
   "cell_type": "markdown",
   "metadata": {
    "collapsed": true
   },
   "source": [
    "# National health and Nutrition Examination Survey Predictive Modeling Project\n",
    "## Following analysis is conducted on patient-level  data captured from various data files containing demographics, diet, medical examination, medication, labs and patient surveys. \n",
    "## A. My goal is to identify a reasonable, severe, and impactable Outcome Measure, and conduct my work to understand the contributing factors to that outcome. \n",
    "## B. I will also attempt to un-earth the underlying relationships between all variables using more advance machine learning methods\n",
    "\n",
    "\n"
   ]
  },
  {
   "cell_type": "code",
   "execution_count": 1,
   "metadata": {
    "collapsed": true
   },
   "outputs": [],
   "source": [
    "#importing various packages I expect to use\n",
    "import json\n",
    "import pandas as pd\n",
    "import numpy as np\n",
    "import seaborn as sns\n",
    "from matplotlib import pyplot as plt \n",
    "import scipy \n",
    "import scipy.stats as stats\n",
    "import math\n",
    "from scipy import stats"
   ]
  },
  {
   "cell_type": "code",
   "execution_count": 2,
   "metadata": {
    "collapsed": true
   },
   "outputs": [],
   "source": [
    "#importing all my data\n",
    "import pandas as pd\n",
    "demographics=pd.read_csv(\"/Users/alizadmehr/Documents/Data Science Material/SpringBoard/Capstone/national-health-and-nutrition-examination-survey/Data/demographic.csv\",index_col='SEQN')\n",
    "diet=pd.read_csv(\"/Users/alizadmehr/Documents/Data Science Material/SpringBoard/Capstone/national-health-and-nutrition-examination-survey/Data/diet.csv\",index_col='SEQN')\n",
    "examination=pd.read_csv('/Users/alizadmehr/Documents/Data Science Material/SpringBoard/Capstone/national-health-and-nutrition-examination-survey/Data/examination.csv',index_col='SEQN')\n",
    "labs=pd.read_csv('/Users/alizadmehr/Documents/Data Science Material/SpringBoard/Capstone/national-health-and-nutrition-examination-survey/Data/labs.csv',index_col='SEQN')\n",
    "medications=pd.read_csv(\"/Users/alizadmehr/Documents/Data Science Material/SpringBoard/Capstone/national-health-and-nutrition-examination-survey/Data/medications.csv\",encoding='ISO-8859-1',index_col='SEQN')\n",
    "questionnaire=pd.read_csv('/Users/alizadmehr/Documents/Data Science Material/SpringBoard/Capstone/national-health-and-nutrition-examination-survey/Data/questionnaire.csv',index_col='SEQN')"
   ]
  },
  {
   "cell_type": "code",
   "execution_count": 3,
   "metadata": {
    "collapsed": true
   },
   "outputs": [],
   "source": [
    "\n",
    "demographics = pd.DataFrame(demographics)\n",
    "diet = pd.DataFrame(diet)\n",
    "examination = pd.DataFrame(examination)\n",
    "labs = pd.DataFrame(labs)\n",
    "medications = pd.DataFrame(medications)\n",
    "questionnaire = pd.DataFrame(questionnaire)"
   ]
  },
  {
   "cell_type": "code",
   "execution_count": 4,
   "metadata": {
    "collapsed": true
   },
   "outputs": [],
   "source": [
    "#Reviewed Med data, established RX Count as the only variable of interest, and adding it to the rest of my data\n",
    "medications['SEQN']=medications.index\n",
    "medications = medications[['SEQN','RXDCOUNT']]\n",
    "medications = medications.drop_duplicates()\n",
    "medications = medications[['RXDCOUNT']]\n",
    "data = pd.concat([demographics,diet,examination,labs,questionnaire,medications], axis=1)"
   ]
  },
  {
   "cell_type": "code",
   "execution_count": 5,
   "metadata": {
    "collapsed": true
   },
   "outputs": [],
   "source": [
    "#Loading Variable Dictionary that I saved as JSON in another query\n",
    "VariableDict = json.load(open('Variable-Dictionary.json'))"
   ]
  },
  {
   "cell_type": "code",
   "execution_count": 6,
   "metadata": {},
   "outputs": [
    {
     "name": "stdout",
     "output_type": "stream",
     "text": [
      "<class 'pandas.core.frame.DataFrame'>\n",
      "Int64Index: 10175 entries, 73557 to 83731\n",
      "Columns: 1812 entries, SDDSRVYR to RXDCOUNT\n",
      "dtypes: float64(1757), int64(24), object(31)\n",
      "memory usage: 140.7+ MB\n"
     ]
    }
   ],
   "source": [
    "#getting info on my final dataframe to ensure it has all the expected rows and columns\n",
    "data.info()"
   ]
  },
  {
   "cell_type": "markdown",
   "metadata": {},
   "source": [
    "## We can see that the dataframe has roughly 10,000 members, and around 2,500 variables. \n",
    "### This poses a challenge in both seeing the content at a glance, as well as potential issues with modelig efforts such as colinearity. \n",
    "### I will attempt to reduce the number of variables using both clinical knowledge, and methods to examine each variable for correctness and relevance"
   ]
  },
  {
   "cell_type": "code",
   "execution_count": 7,
   "metadata": {},
   "outputs": [
    {
     "name": "stdout",
     "output_type": "stream",
     "text": [
      "<class 'pandas.core.frame.DataFrame'>\n",
      "Int64Index: 10175 entries, 73557 to 83731\n",
      "Columns: 2470 entries, SDDSRVYR to SMD100BR_WINSTON RED\n",
      "dtypes: float64(1757), int64(24), uint8(689)\n",
      "memory usage: 145.0 MB\n"
     ]
    }
   ],
   "source": [
    "# To best prepare my dataset for Machine Learning exercises, I want to have only boolean data for all my columns. \n",
    "# In order to do this, I am expanding columns with categorial data into their own columns so I can have boolean data for them.\n",
    "list_object = data.select_dtypes(include=[np.object])\n",
    "data = pd.get_dummies(data, columns= list_object.columns)\n",
    "data.info()\n",
    "data.fillna(0,inplace=True)"
   ]
  },
  {
   "cell_type": "markdown",
   "metadata": {},
   "source": [
    "## Exploratory Data Analysis and Correlations\n",
    "\n",
    "### We will explore Age, Income, Asthma, Diabetes, Hospital Visits, Illicit substances, Medication use, other variables, and their relationships to each other. "
   ]
  },
  {
   "cell_type": "code",
   "execution_count": 8,
   "metadata": {},
   "outputs": [
    {
     "data": {
      "image/png": "[encoded data removed]",
      "text/plain": [
       "<matplotlib.figure.Figure at 0x1a0b32e160>"
      ]
     },
     "metadata": {},
     "output_type": "display_data"
    }
   ],
   "source": [
    "#Drawing age distribution for the population\n",
    "plt.hist(data['RIDAGEYR'],bins='auto')\n",
    "plt.xlabel('Age')\n",
    "plt.ylabel('Patient Count')\n",
    "plt.show()"
   ]
  },
  {
   "cell_type": "markdown",
   "metadata": {},
   "source": [
    "## We can see a fairly uniform distribution across the adult population, and a large number of pediatrics relative to adults. It may be worth considering splitting outcomes more relevant to pediatric vs. adult populations"
   ]
  },
  {
   "cell_type": "code",
   "execution_count": 9,
   "metadata": {},
   "outputs": [
    {
     "data": {
      "image/png": "[encoded data removed]",
      "text/plain": [
       "<matplotlib.figure.Figure at 0x10569ce48>"
      ]
     },
     "metadata": {},
     "output_type": "display_data"
    }
   ],
   "source": [
    "#Drawing distribution of ratio of income to poverty line for the population\n",
    "plt.hist(data['INDFMPIR'],bins='auto')\n",
    "plt.xlabel('Income to poverty line ratio')\n",
    "plt.ylabel('Patient Count')\n",
    "plt.show()"
   ]
  },
  {
   "cell_type": "markdown",
   "metadata": {},
   "source": [
    "## There seems to be a fairly normal distribution of income/poverty ratio, if not for the tailing and limiting the numbers at each end. We will see if this variable will have any significance in our comparisons"
   ]
  },
  {
   "cell_type": "markdown",
   "metadata": {},
   "source": [
    "\n",
    "\n",
    "## Reviewing the distribution of Asthma elements. The \"ER Visits for Asthma\" seems to be accurate from a clinical standpoint. \n",
    "## I  am assessing Asthma due to its prevalence to pediatric population"
   ]
  },
  {
   "cell_type": "code",
   "execution_count": 10,
   "metadata": {},
   "outputs": [
    {
     "name": "stdout",
     "output_type": "stream",
     "text": [
      "ER visits for Asthma:\n",
      "0.0    9236\n",
      "2.0     745\n",
      "1.0     193\n",
      "9.0       1\n",
      "Name: MCQ050, dtype: int64\n"
     ]
    }
   ],
   "source": [
    "# Reviewing the distribution of Asthma elements. This one, the \"ER Visits for Asthma\" seems to be accurate from a clinical standpoint. \n",
    "# I  am assessing Asthma due to its prevalence to pediatric population\n",
    "print('ER visits for Asthma:')\n",
    "print(data['MCQ050'].value_counts())"
   ]
  },
  {
   "cell_type": "code",
   "execution_count": 11,
   "metadata": {},
   "outputs": [
    {
     "data": {
      "text/plain": [
       "0.09228501228501229"
      ]
     },
     "execution_count": 11,
     "metadata": {},
     "output_type": "execute_result"
    }
   ],
   "source": [
    "len(data[data['MCQ050']>0])/len(data)"
   ]
  },
  {
   "cell_type": "markdown",
   "metadata": {},
   "source": [
    "## About 9%  of the population are shown to have Asthma related ER visits in the past\n",
    "\n",
    "## My next inclination is to see the relationship between Age and Asthma to determine if it is more prevalent in children or adults. "
   ]
  },
  {
   "cell_type": "code",
   "execution_count": 12,
   "metadata": {
    "collapsed": true
   },
   "outputs": [],
   "source": [
    "## Building new variables of age-bands \n",
    "# I am adding these elements in case they become significant in correlation or predictive models\n",
    "data['=<18yrs']= (data['RIDAGEYR']<=18).astype(int)\n",
    "data['18<yrs<=45']= ((data['RIDAGEYR']<=45) & (data['RIDAGEYR']>18 )).astype(int)\n",
    "data['45<yrs<=65']= ((data['RIDAGEYR']<=65) & (data['RIDAGEYR']>45)).astype(int)\n",
    "data['>65yrs']= (data['RIDAGEYR']>65).astype(int)\n",
    "data['18yrs<']= (data['RIDAGEYR']>18).astype(int)"
   ]
  },
  {
   "cell_type": "markdown",
   "metadata": {},
   "source": [
    "## Further studying variables and creating new ones:"
   ]
  },
  {
   "cell_type": "code",
   "execution_count": 13,
   "metadata": {
    "collapsed": true
   },
   "outputs": [],
   "source": [
    "#Transforming data to make High BP Variables and BMI\n",
    "data['HighBPSys'] = (data['BPXSY2']>=160).astype(int)\n",
    "data['HighBPDia']= (data['BPXDI2']>=100).astype(int)\n",
    "data['HighBMI'] = (data['BMXBMI']>25).astype(int)\n",
    "# Twice the poverty line indicator\n",
    "data['2xPovertyLine'] = (data['INDFMPIR']<2).astype(int)"
   ]
  },
  {
   "cell_type": "code",
   "execution_count": 14,
   "metadata": {},
   "outputs": [
    {
     "name": "stdout",
     "output_type": "stream",
     "text": [
      "High Blood Sugar in past 3 years:\n",
      "0.0    3706\n",
      "2.0    3469\n",
      "1.0    2842\n",
      "9.0     158\n",
      "Name: DIQ180, dtype: int64\n"
     ]
    },
    {
     "data": {
      "text/plain": [
       "0.6357739557739558"
      ]
     },
     "execution_count": 14,
     "metadata": {},
     "output_type": "execute_result"
    }
   ],
   "source": [
    "print('High Blood Sugar in past 3 years:')\n",
    "print(data['DIQ180'].value_counts())\n",
    "len(data[data['DIQ180']>0])/len(data)"
   ]
  },
  {
   "cell_type": "code",
   "execution_count": 15,
   "metadata": {},
   "outputs": [
    {
     "name": "stdout",
     "output_type": "stream",
     "text": [
      "Illicit substances\n",
      "0.0    5635\n",
      "2.0    3800\n",
      "1.0     723\n",
      "7.0      10\n",
      "9.0       7\n",
      "Name: DUQ240, dtype: int64\n"
     ]
    },
    {
     "data": {
      "text/plain": [
       "0.4461916461916462"
      ]
     },
     "execution_count": 15,
     "metadata": {},
     "output_type": "execute_result"
    }
   ],
   "source": [
    "print('Illicit substances')\n",
    "print(data['DUQ240'].value_counts())\n",
    "len(data[data['DUQ240']>0])/len(data)"
   ]
  },
  {
   "cell_type": "markdown",
   "metadata": {},
   "source": [
    "## Based on above numbers, 64% or patients have had high blood sugar, and 45% used illicit substances. \n",
    "## These results seem to high to be true, so I will omit these variables in the final model"
   ]
  },
  {
   "cell_type": "markdown",
   "metadata": {},
   "source": [
    "## Studying correlation between variables:"
   ]
  },
  {
   "cell_type": "code",
   "execution_count": 16,
   "metadata": {},
   "outputs": [
    {
     "data": {
      "image/png": "[encoded data removed]",
      "text/plain": [
       "<matplotlib.figure.Figure at 0x1a0c0172b0>"
      ]
     },
     "metadata": {},
     "output_type": "display_data"
    },
    {
     "name": "stdout",
     "output_type": "stream",
     "text": [
      "HUQ020: Compared with 12 months ago, would you say {your/SP's} health is now . . .\n",
      "MCQ220: {Have you/Has SP} ever been told by a doctor or other health professional that {you/s/he} had cancer or a malignancy (ma-lig-nan-see) of any kind?\n",
      "HUD080: How many different times did {you/SP} stay in any hospital overnight or longer {during the past 12 months}? (Do not count total number of nights, just total number of hospital admissions for stays which lasted 1 or more nights.)\n",
      "RIDAGEYR: Age in years of the participant at the time of screening. Individuals 80 and over are topcoded at 80 years of age.\n",
      "ACD110: {Do you/Does SP} speak only (NON-ENGLISH LANGUAGE), more (NON-ENGLISH LANGUAGE) than English, both equally, more English than (NON-ENGLISH LANGUAGE), or only English?\n",
      "DIQ010: The next questions are about specific medical conditions. {Other than during pregnancy, {have you/has SP}/{Have you/Has SP}} ever been told by a doctor or health professional that {you have/{he/she/SP} has} diabetes or sugar diabetes?\n",
      "DIQ050: {Is SP/Are you} now taking insulin\n",
      "DIQ070: {Is SP/Are you} now taking diabetic pills to lower {{his/her}/your} blood sugar? These are sometimes called oral agents or oral hypoglycemic agents.\n",
      "MCQ035: {Do you/Does SP} still have asthma (az-ma)?\n",
      "MCQ050: [During the past 12 months], {have you/has SP} had to visit an emergency room or urgent care center because of asthma (az-ma)?\n",
      "RXDCOUNT: The number of prescription medicines reported.\n",
      "DIQ180: {Have you/Has SP} had a blood test for high blood sugar or diabetes within the past three years?\n",
      "DUQ240: Have you ever used cocaine, crack cocaine, heroin, or methamphetamine?\n"
     ]
    }
   ],
   "source": [
    "## Observing correlation between hand-picked clinically or socially significnat variables\n",
    "VariableCorrelations = data[['HUQ020','MCQ220','HUD080','RIDAGEYR','ACD110','DIQ010','DIQ050','DIQ070','MCQ035','MCQ050','RXDCOUNT','DIQ180','DUQ240','HighBPSys','HighBPDia','HighBMI','2xPovertyLine']]\n",
    "PearsonCorr = VariableCorrelations.corr(method='pearson')\n",
    "sns.heatmap(PearsonCorr)\n",
    "plt.show()\n",
    "VariableCorrDict = data[['HUQ020','MCQ220','HUD080','RIDAGEYR','ACD110','DIQ010','DIQ050','DIQ070','MCQ035','MCQ050','RXDCOUNT','DIQ180','DUQ240']]\n",
    "\n",
    "for var in VariableCorrDict:\n",
    "    print('{}: {}'.format(var, VariableDict[var]))"
   ]
  },
  {
   "cell_type": "markdown",
   "metadata": {},
   "source": [
    "## The following variables show relationships to each other:\n",
    "### HUQ020 with DIQ010 and DIQ050\n",
    "    ### current health with Diabetes indicators\n",
    "### MCQ220 with Age and High BMI\n",
    "    ### Cancer with Age and BMI\n",
    "### RIDAGEYR with High BMI and RXDCOUNT\n",
    "    ### Age with high BMI and increased Rx Count\n",
    "### DIQ070 with RXDCOUNT\n",
    "    ### Diabetic and Medication count\n",
    "### DUQ240 with  MCQ220, RIDAGEYR, HighBMI\n",
    "    ### Illicit substances with Age, High BMI and Cancer\n",
    "### DIQ180 with  MCQ220\n",
    "    ### High Blood Sugar with Cancer"
   ]
  },
  {
   "cell_type": "code",
   "execution_count": 17,
   "metadata": {},
   "outputs": [
    {
     "data": {
      "image/png": "[encoded data removed]",
      "text/plain": [
       "<matplotlib.figure.Figure at 0x1a0bf32630>"
      ]
     },
     "metadata": {},
     "output_type": "display_data"
    },
    {
     "name": "stdout",
     "output_type": "stream",
     "text": [
      "HUQ020: Compared with 12 months ago, would you say {your/SP's} health is now . . .\n",
      "HSQ500: Did {you/SP} have a head cold or chest cold that started during those 30 days?\n",
      "CBD090: About how much money was spent on nonfood items?\n",
      "MGXH2T3E: Whether the participant exerted a maximal or questionable effort during the test 3 on hand 2, as assessed by the technician.\n",
      "LBDR69.x: HPV linear array 69\n",
      "MGXH2T3: Grip strength (kg), hand 2, test 3\n",
      "MCQ010: The following questions are about different medical conditions. Has a doctor or other health professional ever told {you/SP} that {you have/s/he/SP has} asthma (az-ma)?\n",
      "DIQ170: {Have you/Has SP} ever been told by a doctor or other health professional that {you have/s/he has} health conditions or a medical or family history that increases {your/his/her} risk for diabetes?\n",
      "MCQ050: [During the past 12 months], {have you/has SP} had to visit an emergency room or urgent care center because of asthma (az-ma)?\n"
     ]
    }
   ],
   "source": [
    "# Further exploring clinically relevant variables\n",
    "vars = ['HUQ020','HSQ500','CBD090','MGXH2T3E','LBDR69.x','MGXH2T3','MCQ010','DIQ170','MCQ050']\n",
    "core_features = data[vars]\n",
    "predmodelcorr = core_features.corr()\n",
    "sns.heatmap(predmodelcorr)\n",
    "plt.show()\n",
    "for var in vars:\n",
    "    print('{}: {}'.format(var, VariableDict[var]))"
   ]
  },
  {
   "cell_type": "markdown",
   "metadata": {},
   "source": [
    "## -------------------------------------------------------------------------\n",
    "# Hypotheses:"
   ]
  },
  {
   "cell_type": "markdown",
   "metadata": {},
   "source": [
    "## Null Hypothesis: Asthma rates in Peds and Adults are similar"
   ]
  },
  {
   "cell_type": "code",
   "execution_count": 18,
   "metadata": {},
   "outputs": [
    {
     "name": "stdout",
     "output_type": "stream",
     "text": [
      "PedsAsthmaRate: 0.09428638608041383\n",
      "AdultsAsthmaRate: 0.09084768659236744\n",
      "2 sampled T test and p-value: -3.67866387624 0.000248383157195\n"
     ]
    },
    {
     "data": {
      "text/plain": [
       "-0.7674003139119656"
      ]
     },
     "execution_count": 18,
     "metadata": {},
     "output_type": "execute_result"
    }
   ],
   "source": [
    "AsthmaData = data[data['MCQ050']>0].MCQ050\n",
    "Peds = data[data['=<18yrs']==True]\n",
    "PedsAsthmaRate=len(Peds[Peds['MCQ050']>0])/len(Peds)\n",
    "PedsAsthmaData = Peds[Peds['MCQ050']>0].MCQ050\n",
    "Adults = data[data['18yrs<']==True]\n",
    "AdultsAsthmaRate=len(Adults[Adults['MCQ050']>0])/len(Adults)\n",
    "AdultsAsthmaData = Adults[Adults['MCQ050']>0].MCQ050\n",
    "print(\"PedsAsthmaRate:\",PedsAsthmaRate)\n",
    "print(\"AdultsAsthmaRate:\",AdultsAsthmaRate)\n",
    "t, p = stats.ttest_ind(PedsAsthmaData,AdultsAsthmaData, equal_var=False)\n",
    "print(\"2 sampled T test and p-value:\", t,p)\n",
    "## manual approach\n",
    "# confidence level calculation\n",
    "# p-p0/sqrt(p0(1-p0)/n)\n",
    "(AdultsAsthmaRate-PedsAsthmaRate) /math.sqrt(PedsAsthmaRate*(1-PedsAsthmaRate)/len(Peds))"
   ]
  },
  {
   "cell_type": "code",
   "execution_count": 19,
   "metadata": {},
   "outputs": [
    {
     "data": {
      "text/plain": [
       "Ttest_1sampResult(statistic=-2.9006676398686766, pvalue=0.0039292621388686616)"
      ]
     },
     "execution_count": 19,
     "metadata": {},
     "output_type": "execute_result"
    }
   ],
   "source": [
    "stats.ttest_1samp(a= PedsAsthmaData,          # Sample data\n",
    "                 popmean= AsthmaData.mean())  # Pop mean"
   ]
  },
  {
   "cell_type": "markdown",
   "metadata": {},
   "source": [
    "## For all age-bands, the ratio of Asthma ED visits seems to be different by a few stds, and a small p-value. Rejecting above Null hypothesis. (employing both 1 sample and 2 sample T tests)"
   ]
  },
  {
   "cell_type": "markdown",
   "metadata": {},
   "source": [
    "## From a clinical and financial perspective, number of hospital admissions is an attractive outcoe metric to consider. Given I am not seeing many correlations with other consiered variables, I will explore relationship of different variables to this variable using other methods"
   ]
  },
  {
   "cell_type": "code",
   "execution_count": 20,
   "metadata": {},
   "outputs": [
    {
     "data": {
      "image/png": "[encoded data removed]",
      "text/plain": [
       "<matplotlib.figure.Figure at 0x1a0b406b00>"
      ]
     },
     "metadata": {},
     "output_type": "display_data"
    }
   ],
   "source": [
    "sns.violinplot(x='HUD080',y='RXDCOUNT',data=data)\n",
    "plt.xlabel('Hospital Admissions')\n",
    "plt.ylabel('Count of Meds')\n",
    "plt.show()"
   ]
  },
  {
   "cell_type": "markdown",
   "metadata": {},
   "source": [
    "### We can see above that the mean of the rx meds increases for people with more hospital admission.\n",
    "### Below, we will use a boostrap hypothesis testing method to see if there is a positive correlation between Rx Count and Hospital Admissions"
   ]
  },
  {
   "cell_type": "code",
   "execution_count": 21,
   "metadata": {},
   "outputs": [
    {
     "name": "stdout",
     "output_type": "stream",
     "text": [
      "Slope and intercept: [ 1.40313303  1.20316972]\n"
     ]
    },
    {
     "data": {
      "image/png": "[encoded data removed]",
      "text/plain": [
       "<matplotlib.figure.Figure at 0x1a0b959080>"
      ]
     },
     "metadata": {},
     "output_type": "display_data"
    },
    {
     "name": "stdout",
     "output_type": "stream",
     "text": [
      "correlation and p-value : (0.28190003329023394, 3.4066139342273198e-185)\n"
     ]
    }
   ],
   "source": [
    "dataForBootstrap = data[['HUD080', 'RXDCOUNT']]\n",
    "dataForBootstrap = dataForBootstrap.dropna(axis=0,how='any')\n",
    "dataForBootstrap = dataForBootstrap.reset_index(drop=True)\n",
    "Admissions = dataForBootstrap['HUD080']\n",
    "MedsCount = dataForBootstrap['RXDCOUNT']\n",
    "print('Slope and intercept:', np.polyfit(Admissions,MedsCount,1))\n",
    "sns.regplot(x=Admissions, y=MedsCount, data=data)\n",
    "plt.show()\n",
    "print ('correlation and p-value :',scipy.stats.pearsonr(Admissions, MedsCount))"
   ]
  },
  {
   "cell_type": "markdown",
   "metadata": {},
   "source": [
    "### We can show above that there is some correlation between Meds Count and Hospital Admissions, with a low p-value, establishing the correlation as statistically significant."
   ]
  },
  {
   "cell_type": "markdown",
   "metadata": {},
   "source": [
    "## Below we examine correlation between 'weird taste in mouth that will not go away' and Cancer. \n",
    "### We see a positive correlation and a 0 p-value, showing statisticaly significant between these factors"
   ]
  },
  {
   "cell_type": "code",
   "execution_count": 22,
   "metadata": {},
   "outputs": [
    {
     "name": "stdout",
     "output_type": "stream",
     "text": [
      "Slope and intercept: [ 0.61086838  0.06751309]\n"
     ]
    },
    {
     "data": {
      "image/png": "[encoded data removed]",
      "text/plain": [
       "<matplotlib.figure.Figure at 0x1a0b70fba8>"
      ]
     },
     "metadata": {},
     "output_type": "display_data"
    },
    {
     "name": "stdout",
     "output_type": "stream",
     "text": [
      "correlation and p-value : (0.6193739303665482, 0.0)\n"
     ]
    }
   ],
   "source": [
    "dataForBootstrap = data[['MCQ220', 'CSQ110']]\n",
    "dataForBootstrap = dataForBootstrap.dropna(axis=0,how='any')\n",
    "dataForBootstrap = dataForBootstrap.reset_index(drop=True)\n",
    "Cancer = dataForBootstrap['MCQ220']\n",
    "TasteMouth = dataForBootstrap['CSQ110']\n",
    "print('Slope and intercept:', np.polyfit(Cancer,TasteMouth,1))\n",
    "sns.regplot(x=Admissions, y=TasteMouth, data=data)\n",
    "plt.show()\n",
    "print ('correlation and p-value :',scipy.stats.pearsonr(Cancer, TasteMouth))"
   ]
  },
  {
   "cell_type": "markdown",
   "metadata": {},
   "source": [
    "## We examine relationship between Hospital Admissions and Poverty, and find no correlation with significance."
   ]
  },
  {
   "cell_type": "code",
   "execution_count": 23,
   "metadata": {},
   "outputs": [
    {
     "name": "stdout",
     "output_type": "stream",
     "text": [
      "Slope and intercept: [ 0.04931893  0.5752041 ]\n"
     ]
    },
    {
     "data": {
      "image/png": "[encoded data removed]",
      "text/plain": [
       "<matplotlib.figure.Figure at 0x1a0cbdc5c0>"
      ]
     },
     "metadata": {},
     "output_type": "display_data"
    },
    {
     "name": "stdout",
     "output_type": "stream",
     "text": [
      "correlation and p-value : (0.050283086821118567, 3.8810269757071209e-07)\n"
     ]
    }
   ],
   "source": [
    "dataForBootstrap = data[['HUD080', '2xPovertyLine']]\n",
    "dataForBootstrap = dataForBootstrap.dropna(axis=0,how='any')\n",
    "dataForBootstrap = dataForBootstrap.reset_index(drop=True)\n",
    "Admissions = dataForBootstrap['HUD080']\n",
    "Poverty = dataForBootstrap['2xPovertyLine']\n",
    "print('Slope and intercept:', np.polyfit(Admissions,Poverty,1))\n",
    "sns.regplot(x=Admissions, y=Poverty, data=data)\n",
    "plt.show()\n",
    "print ('correlation and p-value :',scipy.stats.pearsonr(Admissions, Poverty))"
   ]
  },
  {
   "cell_type": "markdown",
   "metadata": {},
   "source": [
    "## ------------------------------------------------\n",
    "## To ensure comprehensiveness in approach, we review the distribution of a few different potential outcome metrics here:"
   ]
  },
  {
   "cell_type": "code",
   "execution_count": 24,
   "metadata": {
    "scrolled": true
   },
   "outputs": [
    {
     "data": {
      "image/png": "[encoded data removed]",
      "text/plain": [
       "<matplotlib.figure.Figure at 0x1a11da5860>"
      ]
     },
     "metadata": {},
     "output_type": "display_data"
    },
    {
     "data": {
      "image/png": "[encoded data removed]",
      "text/plain": [
       "<matplotlib.figure.Figure at 0x1a11dc7128>"
      ]
     },
     "metadata": {},
     "output_type": "display_data"
    },
    {
     "data": {
      "image/png": "[encoded data removed]",
      "text/plain": [
       "<matplotlib.figure.Figure at 0x1a11ebc630>"
      ]
     },
     "metadata": {},
     "output_type": "display_data"
    },
    {
     "data": {
      "image/png": "[encoded data removed]",
      "text/plain": [
       "<matplotlib.figure.Figure at 0x1a168827f0>"
      ]
     },
     "metadata": {},
     "output_type": "display_data"
    },
    {
     "data": {
      "image/png": "[encoded data removed]",
      "text/plain": [
       "<matplotlib.figure.Figure at 0x1a11da03c8>"
      ]
     },
     "metadata": {},
     "output_type": "display_data"
    }
   ],
   "source": [
    "##Observating behavior of potential outcome variables\n",
    "#Health Status\n",
    "plt.subplot(2,2,1)\n",
    "plt.hist(data['HUQ020'],bins='auto')\n",
    "plt.xlabel('Health Status 12 mnths')\n",
    "plt.ylabel('Count of Pts')\n",
    "plt.show()\n",
    "#Cancer any time in the past\n",
    "plt.subplot(2,2,2)\n",
    "plt.hist(data['MCQ220'],bins='auto')\n",
    "plt.xlabel('Cancer Dx')\n",
    "plt.ylabel('Count of Pts')\n",
    "plt.show()\n",
    "#Hospitalization over pas 12 mnths\n",
    "plt.subplot(2,2,3)\n",
    "plt.hist(data['HUQ071'],bins=10)\n",
    "plt.xlabel('Hospitalization 12 mnths')\n",
    "plt.ylabel('Count of Pts')\n",
    "plt.show()\n",
    "# Count of hospital stays\n",
    "HUD080log = np.log(data['HUD080'].value_counts())\n",
    "plt.subplot(2,2,4)\n",
    "plt.hist(HUD080log,bins='auto')\n",
    "plt.xlabel('Count of Hospital stays')\n",
    "plt.ylabel('Log count of pts')\n",
    "plt.show()\n",
    "# Count of Drugs taken RXDCOUNT\n",
    "RXDCOUNTlog = np.log(data['RXDCOUNT'].value_counts())\n",
    "plt.subplot(2,2,4)\n",
    "plt.hist(RXDCOUNTlog,bins='auto')\n",
    "plt.xlabel('Count of Rx taken')\n",
    "plt.ylabel('Log count of Pts')\n",
    "plt.show()"
   ]
  },
  {
   "cell_type": "markdown",
   "metadata": {},
   "source": [
    "## We can see above that some of the other proposed Outcome Variables lack the necessary distribution to be ideal candidates. This is in exception to the HUD080 (Number of Hospital stays) that does have a right-tailed distribution. \n",
    "## We will further analyze this metric below"
   ]
  },
  {
   "cell_type": "markdown",
   "metadata": {},
   "source": [
    "## -----------------------------------------------------------------------------------\n",
    "## Predictive Models \n",
    "### Using pred models to further explore variables due to the large number of variables. "
   ]
  },
  {
   "cell_type": "code",
   "execution_count": 25,
   "metadata": {},
   "outputs": [
    {
     "data": {
      "text/plain": [
       "0.09110565110565111"
      ]
     },
     "execution_count": 25,
     "metadata": {},
     "output_type": "execute_result"
    }
   ],
   "source": [
    "len(data[data['HUD080']>=1])/len(data)"
   ]
  },
  {
   "cell_type": "markdown",
   "metadata": {},
   "source": [
    "### I am looking for a reasonable percentage of members in the outcome variable. In this case the 9% seems good\n",
    "### I will establish this as my outcome variable below"
   ]
  },
  {
   "cell_type": "code",
   "execution_count": 26,
   "metadata": {},
   "outputs": [
    {
     "name": "stdout",
     "output_type": "stream",
     "text": [
      "                   0           1\n",
      "1                               \n",
      "LBDRPI.x    0.129539    LBDRPI.x\n",
      "LBDR72.x    0.112130    LBDR72.x\n",
      "LBDR84.x    0.018905    LBDR84.x\n",
      "SXQ490      0.010111      SXQ490\n",
      "LBDR73.x    0.010059    LBDR73.x\n",
      "SXD630      0.009259      SXD630\n",
      "OHX04CTC_Z  0.008951  OHX04CTC_Z\n",
      "HSQ571      0.008545      HSQ571\n",
      "DBQ223A     0.007860     DBQ223A\n",
      "SXQ251      0.007484      SXQ251\n"
     ]
    },
    {
     "data": {
      "image/png": "[encoded data removed]",
      "text/plain": [
       "<matplotlib.figure.Figure at 0x1a0cc38828>"
      ]
     },
     "metadata": {},
     "output_type": "display_data"
    }
   ],
   "source": [
    "#creating boolean outcome variable\n",
    "data['HUD080Outcome'] = np.where(data['HUD080']>=1, 1, 0)\n",
    "\n",
    "#Running on Random Forest Classifier model\n",
    "from sklearn.ensemble import RandomForestClassifier\n",
    "#mention this as detour in EDA\n",
    "X = data[data.columns.difference(['HUD080'])]\n",
    "Y = data['HUD080Outcome']\n",
    "names = data.columns\n",
    "rf = RandomForestClassifier(n_jobs=-1,class_weight='balanced_subsample')\n",
    "rf.fit(X, Y)\n",
    "AdmissionsFI = pd.DataFrame(sorted(zip(rf.feature_importances_,names),reverse=True)[:10])\n",
    "AdmissionsFI = AdmissionsFI.set_index(AdmissionsFI[1],drop=True)\n",
    "print(AdmissionsFI)\n",
    "sns.barplot(x=AdmissionsFI[1], y=AdmissionsFI[0])\n",
    "plt.xticks(rotation=45)\n",
    "plt.title(\"Admissions Feature importances\")\n",
    "plt.show()"
   ]
  },
  {
   "cell_type": "code",
   "execution_count": 27,
   "metadata": {},
   "outputs": [
    {
     "name": "stdout",
     "output_type": "stream",
     "text": [
      "                   0           1\n",
      "1                               \n",
      "SXQ841      0.100000      SXQ841\n",
      "SXQ550      0.100000      SXQ550\n",
      "SXQ410      0.100000      SXQ410\n",
      "OHX22TC     0.100000     OHX22TC\n",
      "OHX04CTC_Z  0.100000  OHX04CTC_Z\n",
      "CSQ160      0.100000      CSQ160\n",
      "LBXHA       0.074128       LBXHA\n",
      "OHX06CTC_R  0.072802  OHX06CTC_R\n",
      "DED031      0.071659      DED031\n",
      "PAQ655      0.059912      PAQ655\n"
     ]
    },
    {
     "data": {
      "image/png": "[encoded data removed]",
      "text/plain": [
       "<matplotlib.figure.Figure at 0x1a0b35df98>"
      ]
     },
     "metadata": {},
     "output_type": "display_data"
    }
   ],
   "source": [
    "#creating boolean outcome variable\n",
    "data['MCQ220Outcome'] = np.where(data['MCQ220']>=1, 1, 0)\n",
    "\n",
    "#Running on Random Forest Classifier model\n",
    "from sklearn.ensemble import RandomForestClassifier\n",
    "X = data[data.columns.difference(['MCQ220'])]\n",
    "Y = data['MCQ220Outcome']\n",
    "names = data.columns\n",
    "rf = RandomForestClassifier(n_jobs=-1,class_weight='balanced_subsample')\n",
    "rf.fit(X, Y)\n",
    "AdmissionsFI = pd.DataFrame(sorted(zip(rf.feature_importances_,names),reverse=True)[:10])\n",
    "AdmissionsFI = AdmissionsFI.set_index(AdmissionsFI[1],drop=True)\n",
    "print(AdmissionsFI)\n",
    "sns.barplot(x=AdmissionsFI[1], y=AdmissionsFI[0])\n",
    "plt.xticks(rotation=45)\n",
    "plt.title(\"Cancer Feature importances\")\n",
    "plt.show()"
   ]
  },
  {
   "cell_type": "code",
   "execution_count": 28,
   "metadata": {},
   "outputs": [
    {
     "name": "stdout",
     "output_type": "stream",
     "text": [
      "HUQ020 Pred Factors:\n",
      "HUQ020: Compared with 12 months ago, would you say {your/SP's} health is now . . .\n",
      "MCQ220: {Have you/Has SP} ever been told by a doctor or other health professional that {you/s/he} had cancer or a malignancy (ma-lig-nan-see) of any kind?\n",
      "HUD080: How many different times did {you/SP} stay in any hospital overnight or longer {during the past 12 months}? (Do not count total number of nights, just total number of hospital admissions for stays which lasted 1 or more nights.)\n",
      "RIDAGEYR: Age in years of the participant at the time of screening. Individuals 80 and over are topcoded at 80 years of age.\n",
      "ACD110: {Do you/Does SP} speak only (NON-ENGLISH LANGUAGE), more (NON-ENGLISH LANGUAGE) than English, both equally, more English than (NON-ENGLISH LANGUAGE), or only English?\n",
      "DIQ010: The next questions are about specific medical conditions. {Other than during pregnancy, {have you/has SP}/{Have you/Has SP}} ever been told by a doctor or health professional that {you have/{he/she/SP} has} diabetes or sugar diabetes?\n",
      "DIQ050: {Is SP/Are you} now taking insulin\n",
      "DIQ070: {Is SP/Are you} now taking diabetic pills to lower {{his/her}/your} blood sugar? These are sometimes called oral agents or oral hypoglycemic agents.\n",
      "MCQ035: {Do you/Does SP} still have asthma (az-ma)?\n",
      "RXDCOUNT: The number of prescription medicines reported.\n",
      "DIQ180: {Have you/Has SP} had a blood test for high blood sugar or diabetes within the past three years?\n",
      "DUQ240: Have you ever used cocaine, crack cocaine, heroin, or methamphetamine?\n"
     ]
    }
   ],
   "source": [
    "HUQ020Vars = ['HUQ020','MCQ220','HUD080','RIDAGEYR','ACD110','DIQ010','DIQ050','DIQ070','MCQ035','RXDCOUNT','DIQ180','DUQ240']\n",
    "print('HUQ020 Pred Factors:')\n",
    "for var in HUQ020Vars:\n",
    "    print('{}: {}'.format(var, VariableDict[var]))"
   ]
  },
  {
   "cell_type": "markdown",
   "metadata": {},
   "source": [
    "## Given the high number of variables, I ran a few different models to find significant variables for various metrics. "
   ]
  },
  {
   "cell_type": "markdown",
   "metadata": {
    "collapsed": true
   },
   "source": [
    "## I will apply additional modeling techniques such as clustering to further discover relationships and simplify my variables before attempting final Optimization models"
   ]
  },
  {
   "cell_type": "code",
   "execution_count": null,
   "metadata": {
    "collapsed": true
   },
   "outputs": [],
   "source": []
  }
 ],
 "metadata": {
  "kernelspec": {
   "display_name": "Python 3",
   "language": "python",
   "name": "python3"
  },
  "language_info": {
   "codemirror_mode": {
    "name": "ipython",
    "version": 3
   },
   "file_extension": ".py",
   "mimetype": "text/x-python",
   "name": "python",
   "nbconvert_exporter": "python",
   "pygments_lexer": "ipython3",
   "version": "3.6.3"
  }
 },
 "nbformat": 4,
 "nbformat_minor": 2
}
